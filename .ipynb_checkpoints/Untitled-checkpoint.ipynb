{
 "cells": [
  {
   "cell_type": "code",
   "execution_count": 6,
   "metadata": {},
   "outputs": [],
   "source": [
    "import os"
   ]
  },
  {
   "cell_type": "code",
   "execution_count": 7,
   "metadata": {},
   "outputs": [],
   "source": [
    "def get_all_model(dir):\n",
    "    models = []\n",
    "    for root,dirs,files in os.walk(dir):\n",
    "        for file in files:\n",
    "            if file  ==\"checkmodel.hdf5\":\n",
    "                models.append(os.path.join(root,file))\n",
    "    return models"
   ]
  },
  {
   "cell_type": "code",
   "execution_count": 8,
   "metadata": {},
   "outputs": [],
   "source": [
    "dir = \"./\""
   ]
  },
  {
   "cell_type": "code",
   "execution_count": 9,
   "metadata": {},
   "outputs": [],
   "source": [
    "models = get_all_model(dir)"
   ]
  },
  {
   "cell_type": "code",
   "execution_count": 10,
   "metadata": {},
   "outputs": [],
   "source": [
    "optimal = {'ABF2': 13, 'ABI5': 13, 'ABR1': 19, 'ADOF1': 11, 'AGL63': 13, 'ANAC004': 11, 'ANAC016': 13, 'ANAC017': 15, 'ANAC020': 15, 'ANAC028': 17, 'ANAC034': 15, 'ANAC038': 13, 'ANAC042': 11, 'ANAC045': 19, 'ANAC046': 15, 'ANAC050': 17, 'ANAC053': 17, 'ANAC055': 11, 'ANAC057': 13, 'ANAC058': 15, 'ANAC062': 15, 'ANAC071': 15, 'ANAC075': 15, 'ANAC083': 13, 'ANAC087': 11, 'ANAC092': 15, 'ANAC103': 11, 'ANL2': 11, 'AREB3': 11, 'ARF2': 11, 'AT1G12630': 17, 'AT1G19000': 11, 'AT1G19210': 15, 'AT1G22810': 19, 'AT1G25550': 15, 'AT1G49010': 11, 'AT1G49560': 15, 'AT1G64620': 13, 'AT1G69570': 17, 'AT1G71450': 19, 'AT1G72010': 17, 'AT1G72740': 13, 'AT1G74840': 11, 'AT1G77200': 11, 'AT1G78700': 11, 'AT2G01060': 13, 'AT2G03500': 19, 'AT2G20110': 19, 'AT2G20400': 17, 'AT2G28810': 17, 'AT2G33550': 19, 'AT2G33710': 11, 'AT2G40260': 19, 'AT2G44940': 13, 'AT3G04030': 17, 'AT3G09600': 11, 'AT3G09735': 13, 'AT3G10113': 11, 'AT3G12130': 15, 'AT3G12730': 11, 'At3g14180': 15, 'AT3G24120': 13, 'AT3G52440': 13, 'AT3G60490': 11, 'AT3G60580': 13, 'AT4G00250': 11, 'AT4G01280': 11, 'AT4G31060': 17, 'AT4G32800': 11, 'AT4G36780': 17, 'AT4G37180': 15, 'AT5G02460': 21, 'AT5G04390': 11, 'AT5G05550': 11, 'AT5G05790': 13, 'AT5G08330': 11, 'AT5G08520': 15, 'AT5G18450': 17, 'AT5G29000': 13, 'AT5G45580': 17, 'AT5G52660': 15, 'AT5G56840': 13, 'AT5G58900': 15, 'AT5G61620': 13, 'AT5G62940': 17, 'AT5G63260': 15, 'AT5G65130': 15, 'AT5G66730': 15, 'AT5G66940': 13, 'ATAF1': 13, 'ATGRF6': 15, 'ATHB13': 17, 'ATHB15': 11, 'ATHB20': 11, 'ATHB21': 17, 'ATHB23': 15, 'ATHB24': 13, 'ATHB25': 15, 'ATHB33': 17, 'ATHB34': 11, 'ATHB40': 19, 'ATHB5': 11, 'ATHB6': 13, 'ATHB7': 11, 'ATIDD11': 13, 'ATY13': 15, 'BAM8': 11, 'BHLH122': 11, 'BHLH28': 15, 'bHLH31': 11, 'BHLH80': 17, 'BIM2': 15, 'BOS1': 15, 'BPC1': 21, 'BZIP16': 17, 'BZIP18': 11, 'BZIP28': 17, 'BZIP3': 11, 'BZIP52': 13, 'BZIP53': 13, 'BZIP68': 11, 'CAMTA1': 19, 'CBF1': 11, 'CBF2': 15, 'CBF3': 11, 'CBF4': 13, 'CDF3': 19, 'CDM1': 15, 'CEJ1': 13, 'COG1': 11, 'CRC': 11, 'CRF10': 17, 'CRF4': 15, 'CUC3': 17, 'DAG2': 17, 'DEAR3': 13, 'DEAR5': 11, 'EPR1': 17, 'ERF1': 19, 'ERF10': 17, 'ERF105': 17, 'ERF11': 21, 'ERF115': 21, 'ERF13': 17, 'ERF15': 17, 'ERF3': 11, 'ERF38': 17, 'ERF4': 11, 'ERF7': 17, 'ERF8': 17, 'ESE3': 17, 'FRS9': 21, 'GATA11': 11, 'GATA15': 15, 'GATA20': 11, 'GBF3': 11, 'GBF5': 13, 'GT2': 15, 'GTL1': 11, 'HAT2': 13, 'HDG1': 13, 'HSF3': 15, 'HSFA6B': 13, 'HSFC1': 13, 'HY5': 15, 'IDD4': 13, 'IDD5': 13, 'IDD7': 15, 'JKD': 17, 'LBD13': 19, 'LBD18': 11, 'LBD19': 15, 'LBD2': 19, 'LHY1': 17, 'MGP': 11, 'MS188': 13, 'MYB107': 11, 'MYB116': 11, 'MYB118': 13, 'MYB119': 13, 'MYB121': 11, 'MYB13': 13, 'MYB27': 11, 'MYB33': 13, 'MYB3R1': 13, 'MYB3R4': 11, 'MYB3R5': 15, 'MYB49': 13, 'MYB55': 13, 'MYB57': 17, 'MYB58': 11, 'MYB61': 15, 'MYB62': 15, 'MYB63': 11, 'MYB65': 13, 'MYB67': 13, 'MYB70': 13, 'MYB73': 17, 'MYB74': 13, 'MYB77': 13, 'MYB81': 13, 'MYB83': 15, 'MYB88': 13, 'MYB93': 13, 'MYB98': 15, 'MYB99': 11, 'NAC2': 13, 'NAM': 13, 'NST1': 15, 'OBP1': 21, 'OBP3': 19, 'OBP4': 11, 'PHV': 11, 'PUCHI': 19, 'RAP2.10': 15, 'RAP2.11': 15, 'RAP2.6': 21, 'RAP212': 15, 'REM19': 21, 'RRTF1': 17, 'RVE1': 19, 'SGR5': 15, 'SMB': 13, 'SND3': 15, 'SOL1': 17, 'SPL1': 15, 'SPL14': 11, 'SPL15': 13, 'SPL5': 11, 'SPL9': 11, 'SRS7': 11, 'STZ': 11, 'SVP': 13, 'TBP3': 11, 'TCX2': 19, 'TGA1': 11, 'TGA2': 11, 'TGA4': 13, 'TGA6': 13, 'TGA9': 17, 'TINY': 13, 'VND1': 15, 'VND2': 11, 'VND4': 11, 'VRN1': 21, 'WRKY14': 17, 'WRKY15': 13, 'WRKY18': 15, 'WRKY20': 15, 'WRKY22': 17, 'WRKY24': 13, 'WRKY25': 17, 'WRKY27': 13, 'WRKY28': 11, 'WRKY30': 15, 'WRKY31': 15, 'WRKY33': 15, 'WRKY45': 15, 'WRKY50': 13, 'WRKY55': 15, 'WRKY6': 19, 'WRKY65': 13, 'WRKY70': 19, 'WRKY71': 13, 'WRKY75': 13}\n",
    "\n",
    "\n"
   ]
  },
  {
   "cell_type": "code",
   "execution_count": null,
   "metadata": {},
   "outputs": [],
   "source": [
    "for model in models:\n",
    "    model_tf = model.split(\"/\")\n",
    "    if int(model_tf[-2]) != optimal[model_tf[-3]]:\n",
    "        "
   ]
  }
 ],
 "metadata": {
  "kernelspec": {
   "display_name": "Python 3",
   "language": "python",
   "name": "python3"
  },
  "language_info": {
   "codemirror_mode": {
    "name": "ipython",
    "version": 3
   },
   "file_extension": ".py",
   "mimetype": "text/x-python",
   "name": "python",
   "nbconvert_exporter": "python",
   "pygments_lexer": "ipython3",
   "version": "3.6.7"
  }
 },
 "nbformat": 4,
 "nbformat_minor": 2
}
